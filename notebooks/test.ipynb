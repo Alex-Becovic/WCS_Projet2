{
 "cells": [
  {
   "cell_type": "code",
   "execution_count": 1,
   "id": "6da9a8eb",
   "metadata": {},
   "outputs": [],
   "source": [
    "import pandas as pd\n",
    "import numpy as np\n",
    "\n"
   ]
  },
  {
   "cell_type": "code",
   "execution_count": null,
   "id": "911d7a71",
   "metadata": {},
   "outputs": [],
   "source": [
    "# 1e Graphique: Nombre de votes par genre\n",
    "\n",
    "df_genre = pd.read_csv(\"genres.csv\")\n",
    "genres = df_genre.sum()\n",
    "genres.drop(\"Unnamed: 0\", inplace=True)\n",
    "# je sort les genres dans l'ordre croissant de leur occurrence\n",
    "genres = genres.sort_values(ascending=False)\n",
    "# Conversion en DataFrame pour l'utilisation de `color`\n",
    "genres_df = pd.DataFrame({\"Genre\": genres.index, \"Votes\": genres.values})\n",
    "# Création du graphique à barres avec Plotly Express\n",
    "fig = px.bar(genres_df, x=\"Genre\", y=\"Votes\", color=\"Genre\", title=\"Nombre de votes par genre\", labels={\"x\": \"Genre\", \"y\": \"Nombre de votes\"})\n",
    "# pour incliner l'axe des x:\n",
    "fig.update_layout(xaxis=dict(tickangle=45, tickfont=dict(size=10), showline=True, showticklabels=True))\n",
    "st.plotly_chart(fig)\n",
    "\n",
    "# 2e Graphique: Nombre de films par année\n",
    "\n",
    "df = pd.read_csv('nettoyage_des_donnees.csv')\n",
    "df_films_per_year = df.groupby(\"startYear\").size().reset_index(name=\"Nombre de films\")\n",
    "fig2 = px.bar(df_films_per_year, x='startYear', y='Nombre de films', title='Nombre de films par année')\n",
    "fig2.update_layout(xaxis=dict(tickangle=45),height=500, title_x=0.5)\n",
    "st.plotly_chart(fig2)\n",
    "\n",
    "# 3e Graphique: Nombre de films par pays\n",
    "df_films_par_pays = df.groupby(\"original_language\").size().reset_index(name=\"Nombre de films\")\n",
    "fig3 = px.bar(df_films_par_pays, x='original_language', y='Nombre de films', title='Nombre de films par pays')\n",
    "fig3.update_layout(xaxis=dict(tickangle=45), height=500, title_x=0.5)\n",
    "st.plotly_chart(fig3)\n"
   ]
  }
 ],
 "metadata": {
  "kernelspec": {
   "display_name": "Python 3",
   "language": "python",
   "name": "python3"
  },
  "language_info": {
   "codemirror_mode": {
    "name": "ipython",
    "version": 3
   },
   "file_extension": ".py",
   "mimetype": "text/x-python",
   "name": "python",
   "nbconvert_exporter": "python",
   "pygments_lexer": "ipython3",
   "version": "3.13.2"
  }
 },
 "nbformat": 4,
 "nbformat_minor": 5
}
